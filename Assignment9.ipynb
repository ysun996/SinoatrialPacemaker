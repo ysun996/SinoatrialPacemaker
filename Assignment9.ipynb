{
 "cells": [
  {
   "cell_type": "markdown",
   "metadata": {},
   "source": [
    "#### Bio3360 Assignment 9##\n",
    "\n",
    "#### Due Wednesday March 13 at 6pm ####\n",
    "\n",
    "\n",
    "\n",
    "...\n"
   ]
  },
  {
   "cell_type": "markdown",
   "metadata": {},
   "source": [
    "## Modeling stochastic processes: diffusion & random walks ##\n",
    "\n",
    "<br>\n",
    "\n",
    "### Part I: Random number generation ###\n",
    "\n",
    "To simulate stochastic processes, we need to generate *randomness*. Typically, this is done by asking the computer to generate *random numbers*. There are a number of functions in Python that will generate (pseudo) random numbers, sampled from various probability distributions. In other words, the function simulates a random sampling from a particular distribution. We will focus on only two in this course: the **uniform distribution** and the **gaussian (normal) distribution**.  In the following, we summarize some of the functions that will be useful in this context.\n",
    "\n",
    "\n"
   ]
  },
  {
   "cell_type": "markdown",
   "metadata": {},
   "source": [
    "#### Uniform random numbers ####\n",
    "First, we will generate random numbers that will be **uniformly distributed** between 0 and 1; this means that all real numbers on the interval [0,1] are equally likely. We can do this using the NumPy function `np.random.rand()`.\n",
    "\n",
    "Read through the code cell below and `Run` it multiple times. Look at the printed number and the plot. What do you notice?"
   ]
  },
  {
   "cell_type": "code",
   "execution_count": null,
   "metadata": {},
   "outputs": [],
   "source": [
    "import numpy as np\n",
    "import matplotlib.pyplot as plt\n",
    "\n",
    "sample1 = np.random.rand()       # generates a single random number from a uniform-distribution\n",
    "print(sample1)\n",
    "\n",
    "sample100 = np.random.rand(100)  # fills a Numpy array with 100 uniformly-distributed random numbers\n",
    "plt.plot(sample100)\n",
    "plt.xlabel('sample')\n",
    "plt.ylabel('random number')"
   ]
  },
  {
   "cell_type": "markdown",
   "metadata": {},
   "source": [
    "\n",
    "Under some circumstances, we would like to generate the same sequence of random numbers each time we run a simulation. To do this, we must tell the computer to start generating the sequence at the same starting point each time; we do this by **setting the SEED function**  (You may be thinking that this doesn't sound so *random*, but it can be very useful nonetheless)\n",
    "\n",
    "Copy the above code into the code cell below and then type `np.random.seed(3360)` at the top. `Run` the cell multiple times. What do you notice now?\n",
    "Note that there is nothing special about the `3360`, it is simply a *starting point*. Use a different *seed* (i.e. type a different number) and `Run` the cell multiple times again...\n",
    " "
   ]
  },
  {
   "cell_type": "code",
   "execution_count": null,
   "metadata": {},
   "outputs": [],
   "source": [
    "# YOUR CODE HERE\n",
    "\n",
    "import numpy as np\n",
    "import matplotlib.pyplot as plt\n",
    "\n",
    "np.random.seed(3360)\n",
    "\n",
    "sample1 = np.random.rand()       # generates a single random number from a uniform-distribution\n",
    "print(sample1)\n",
    "\n",
    "sample100 = np.random.rand(100)  # fills a Numpy array with 100 uniformly-distributed random numbers\n",
    "plt.plot(sample100)\n",
    "plt.xlabel('sample')\n",
    "plt.ylabel('random number')"
   ]
  },
  {
   "cell_type": "markdown",
   "metadata": {},
   "source": [
    "#### Gaussian random numbers ####\n",
    "\n",
    "Similarly, using the function `np.random.randn()`, we can generate random numbers that are **normally distributed** (i.e. described by a gaussian distribution with a mean of 0 and standard deviation of 1). Note that the name of this function differs from the above only by the 'n' at the end, so be careful to keep track of this when you are coding (the two functions produce very different results).\n",
    "\n",
    "In many cases, you will also want to vary the mean and standard deviation of the numbers generated. This can be done by scaling the output from `np.random.randn()`. This is demonstrated in the code cell below. In addition, there is code to plot the distribution (histogram) of an array of numbers.  "
   ]
  },
  {
   "cell_type": "code",
   "execution_count": null,
   "metadata": {},
   "outputs": [],
   "source": [
    "import numpy as np\n",
    "import matplotlib.pyplot as plt\n",
    "\n",
    "# gaussian random numbers\n",
    "num_samples=500\n",
    "Y= np.random.randn(num_samples)   # sample one: mean 0, SD 1\n",
    "\n",
    "# 'personalizing' the distribution of X\n",
    "X_mean=5  # mean \n",
    "X_sd=3     # standard deviation \n",
    "X= X_mean + X_sd * np.random.randn(num_samples)  # sample two\n",
    "\n",
    "# plot histograms, density\n",
    "numbins=50\n",
    "plt.hist(Y,numbins,density=1,alpha=0.6,label='sample 1')  # plots histogram \n",
    "count, bins, patches = plt.hist(X,numbins,density=1,alpha=0.6,label='sample 2')  # same for sample two\n",
    "# note that the hist function can also output 'count' and 'bins' if needed (see the line above)\n",
    "# bins contains the edges of the histogram and has one more element than 'count'\n",
    "# so to plot directly you would have to do something like this:  plt.plot(bins[1:],count,'.')\n",
    "\n",
    "# you could also plot the theoretical gaussian curve if desired\n",
    "g = (1/(X_sd*np.sqrt(2*np.pi))) * (np.exp(-0.5 *((bins-X_mean)/X_sd)**2)) # density ie normalized\n",
    "plt.plot(bins,g,color='k',label='theory')  \n",
    "\n",
    "plt.xlabel('X')\n",
    "plt.ylabel('Probability density')\n",
    "plt.legend()\n",
    "\n",
    "plt.tight_layout()\n"
   ]
  },
  {
   "cell_type": "markdown",
   "metadata": {},
   "source": [
    "#### Plotting the distribution of a random sample ####\n",
    "\n",
    "Using snippets from the above code cells:\n",
    "\n",
    "- generate 2000 random numbers from a **uniform distribution**\n",
    "- plot the histogram of your sample (raw counts on the y-axis), with 50 bins\n",
    "- on the same plot, overlay the theoretical curve for the expected distribution of your sample\n"
   ]
  },
  {
   "cell_type": "code",
   "execution_count": null,
   "metadata": {},
   "outputs": [],
   "source": [
    "# YOUR CODE HERE\n",
    "import numpy as np\n",
    "import matplotlib.pyplot as plt\n",
    "\n",
    "# gaussian random numbers\n",
    "num_samples=2000\n",
    "Y= np.random.rand(num_samples)   # sample one: mean 0, SD 1\n",
    "\n",
    "# 'personalizing' the distribution of X\n",
    "# X_mean=5  # mean \n",
    "# X_sd=3     # standard deviation \n",
    "# X= X_mean + X_sd * np.random.randn(num_samples)  # sample two\n",
    "\n",
    "# plot histograms, density\n",
    "numbins=50\n",
    "plt.hist(Y,numbins,density=1,alpha=0.6,label='sample 1')  # plots histogram \n",
    "# count, bins, patches = plt.hist(X,numbins,density=1,alpha=0.6,label='sample 2')  # same for sample two\n",
    "# note that the hist function can also output 'count' and 'bins' if needed (see the line above)\n",
    "# bins contains the edges of the histogram and has one more element than 'count'\n",
    "# so to plot directly you would have to do something like this:  plt.plot(bins[1:],count,'.')\n",
    "\n",
    "# you could also plot the theoretical gaussian curve if desired\n",
    "# g = (1/(X_sd*np.sqrt(2*np.pi))) * (np.exp(-0.5 *((bins-X_mean)/X_sd)**2)) # density ie normalized\n",
    "# plt.plot(bins,g,color='k',label='theory')  \n",
    "\n",
    "plt.xlabel('X')\n",
    "plt.ylabel('Probability density')\n",
    "plt.legend()\n",
    "\n",
    "plt.tight_layout()\n"
   ]
  },
  {
   "cell_type": "markdown",
   "metadata": {},
   "source": [
    "### Part II: Simulating a coin flip ###\n",
    "The value of generating random numbers for us is that we can use them to simulate random processes, like a simple coin flip. If you had a fair coin (not weigthed), the probability of getting *HEADS* on each flip is 0.5. How can we simulate this?\n",
    "\n",
    "If we generate a uniformly distributed using `np.random.rand()`, what is the probability that we will get a number less than 0.5? \n",
    "\n",
    "In the code cell below, write a script that will simulate a single coin flip.\n"
   ]
  },
  {
   "cell_type": "code",
   "execution_count": null,
   "metadata": {},
   "outputs": [],
   "source": [
    "# YOUR CODE HERE\n",
    "c = np.random.rand(1)\n",
    "\n",
    "def coinflip(ray):\n",
    "    results = np.zeros(len(ray))\n",
    "    for i in range(len(ray)):\n",
    "        if ray[i] > 0.5:\n",
    "            results[i] = 1\n",
    "        else:\n",
    "            results[i] = 0\n",
    "    return results\n",
    "\n",
    "coinflip(c)\n",
    "            \n",
    "            \n",
    "    "
   ]
  },
  {
   "cell_type": "markdown",
   "metadata": {},
   "source": [
    "Now, put the code for a single coin flip into a loop, to simulate 20 independent coin flips. Use a NumPy array to keep track of the outcomes, with HEADS=1 and TAILS=0.\n"
   ]
  },
  {
   "cell_type": "code",
   "execution_count": null,
   "metadata": {},
   "outputs": [],
   "source": [
    "# YOUR CODE HERE\n",
    "\n",
    "c = np.random.rand(20)\n",
    "\n",
    "def coinflip(ray):\n",
    "    results = np.zeros(len(ray))\n",
    "    for i in range(len(ray)):\n",
    "        if ray[i] > 0.5:\n",
    "            results[i] = 1\n",
    "        else:\n",
    "            results[i] = 0\n",
    "    return results\n",
    "x = coinflip(c)"
   ]
  },
  {
   "cell_type": "markdown",
   "metadata": {},
   "source": [
    "### EXTRA:  Simulating multiple coin flips and the binomial distribution ###\n",
    "\n",
    "You could go one step further and repeat the set of 20 coin flips many times (say 100 trials), and keep track of the number of HEADS you get in each trial. The number of trials that will result in a certain number of HEADS is given by the binomial distribution. Can you show that the number of HEADS across trials is binomially distributed? You could assume the coin is weighted (i.e. `prob_heads=0.1`) to get a slightly skewed distribution.\n"
   ]
  },
  {
   "cell_type": "code",
   "execution_count": null,
   "metadata": {},
   "outputs": [],
   "source": [
    "# YOUR CODE HERE\n"
   ]
  },
  {
   "cell_type": "markdown",
   "metadata": {},
   "source": [
    "### Part III:  Making decisions with random numbers: one-dimensional random walks ###\n",
    "\n",
    "It may seem odd to think about making a decision based on a random number, but many stochastic processes (e.g. underlying movement of molecules, cells, animals, etc) can be modeled using the basic idea of a *random walk*. We will begin by considering the simple case of a one-dimensional (1D) random walk i.e. movement of a particle (or whatever) on a line. In this case, the \"decision\" is whether to move to the right or to the left. Just as we did for a coin flip, we can use a uniform random number to make this decision.\n",
    "\n",
    "Here is a summary of this process:\n",
    "\n",
    "1. generate a random number\n",
    "2. if this number is less than the probability of stepping to the right (i.e. positive direction on the line), then step to the right, else step to the left (negative direction)\n",
    "3. go back to #1\n",
    "\n",
    "In the code cell below, write a script to simulate a 1D random walk on the X-axis:\n",
    "- Use a step size of 1, a total of 200 steps, probability of a positive step of 0.5, and an ititial value of X=0. \n",
    "- Consider using an array that will keep track of X for each step (i.e. positions along the X-axis in time). \n",
    "- Then plot X vs time (i.e. step number).\n"
   ]
  },
  {
   "cell_type": "code",
   "execution_count": null,
   "metadata": {},
   "outputs": [],
   "source": [
    "# YOUR CODE HERE\n"
   ]
  },
  {
   "cell_type": "markdown",
   "metadata": {},
   "source": [
    "#### Characterizing the outcomes of repeated one-dimensional random walks####\n",
    "\n",
    "In the code cell below, adapt your code from above to simulate 200 independent 1D random walks of the same type.\n",
    "\n",
    "Plot X vs time for all trials in one panel, and a histogram of the last point in each trial in another panel.\n"
   ]
  },
  {
   "cell_type": "code",
   "execution_count": null,
   "metadata": {},
   "outputs": [],
   "source": [
    "# YOUR CODE HERE\n"
   ]
  },
  {
   "cell_type": "markdown",
   "metadata": {},
   "source": [
    "### Part IV:  Two-dimensional random walks ###\n",
    "\n",
    "We can now consider a perhaps more natural context of a 2D random walk (i.e. movement on a plane). Below, extend your code from the above cell to generate 200 independent walks of 200 steps. Here you will have to consider steps in both X and Y directions. For simplicity, you can consider an X step and Y step as independent (make the decision separately) and keep the step size the same for both (equal to 1). And for starters, fix the probabilities for a positive step for both X and Y at 0.5.\n",
    "\n",
    "You will want to plot the output in a similar manner as well. You already know how to generate line plot (i.e. Y vs X). In the code cell below, we show how to generate a 2D histogram, so you can describe the distribution of end points over multiple 2D walks.\n"
   ]
  },
  {
   "cell_type": "code",
   "execution_count": null,
   "metadata": {},
   "outputs": [],
   "source": [
    "# 2D histogram of gaussian random numbers\n",
    "\n",
    "import numpy as np\n",
    "import matplotlib.pyplot as plt\n",
    "\n",
    "# generate random samples in a 2 column array (1st col is X, and 2nd col is Y)\n",
    "num_samples=500\n",
    "XYsamples= np.random.randn(num_samples,2)   # sample one: mean 0, SD 1\n",
    "\n",
    "# plot histogram, density\n",
    "plt.figure(figsize=(5, 5))\n",
    "numbins=30\n",
    "h, xedges, yedges, im = plt.hist2d(XYsamples[:,0],XYsamples[:,1],numbins)\n",
    "plt.xlabel('X')\n",
    "plt.ylabel('Y')\n"
   ]
  },
  {
   "cell_type": "code",
   "execution_count": null,
   "metadata": {},
   "outputs": [],
   "source": [
    "# YOUR CODE HERE\n"
   ]
  }
 ],
 "metadata": {
  "kernelspec": {
   "display_name": "Python 3",
   "language": "python",
   "name": "python3"
  },
  "language_info": {
   "codemirror_mode": {
    "name": "ipython",
    "version": 3
   },
   "file_extension": ".py",
   "mimetype": "text/x-python",
   "name": "python",
   "nbconvert_exporter": "python",
   "pygments_lexer": "ipython3",
   "version": "3.6.5"
  }
 },
 "nbformat": 4,
 "nbformat_minor": 2
}
